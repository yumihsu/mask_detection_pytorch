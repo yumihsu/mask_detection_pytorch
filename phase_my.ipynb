{
 "metadata": {
  "language_info": {
   "codemirror_mode": {
    "name": "ipython",
    "version": 3
   },
   "file_extension": ".py",
   "mimetype": "text/x-python",
   "name": "python",
   "nbconvert_exporter": "python",
   "pygments_lexer": "ipython3",
   "version": "3.7.3"
  },
  "orig_nbformat": 4,
  "kernelspec": {
   "name": "pytorch",
   "display_name": "Python 3.7.3 64-bit ('base': conda)"
  }
 },
 "nbformat": 4,
 "nbformat_minor": 2,
 "cells": [
  {
   "cell_type": "code",
   "execution_count": 71,
   "metadata": {},
   "outputs": [],
   "source": [
    "import torch\n",
    "import torchvision\n",
    "from torchvision import transforms\n",
    "from matplotlib import pyplot as plt\n",
    "import pandas as pd\n",
    "import numpy as np\n",
    "import os\n",
    "from bs4 import BeautifulSoup\n",
    "device = ['cuda'] if torch.cuda.is_available() else ['cpu']"
   ]
  },
  {
   "source": [
    "# load data"
   ],
   "cell_type": "markdown",
   "metadata": {}
  },
  {
   "source": [
    "### 因為xml檔案讀取後是 object ，所以需要用 beautifulSoup 套件轉成 text\n",
    "### 需要轉換的項目有 boxes , label\n",
    "### 最後將其輸出成已經是 tensor 的 dic"
   ],
   "cell_type": "markdown",
   "metadata": {}
  },
  {
   "cell_type": "code",
   "execution_count": 72,
   "metadata": {},
   "outputs": [],
   "source": [
    "def get_box(obj):\n",
    "    xmin = int(obj.find('xmin').text)\n",
    "    ymin = int(obj.find('ymin').text)\n",
    "    xmax = int(obj.find('xmax').text)\n",
    "    ymax = int(obj.find('ymax').text)\n",
    "    return [xmin,ymin,xmax,ymax]\n",
    "\n",
    "def get_label(obj):\n",
    "    if obj.find('name').text =='with_mask' :\n",
    "        return 1 \n",
    "    elif obj.find('name').text =='without_mask':\n",
    "        return 2 \n",
    "    return 0"
   ]
  },
  {
   "cell_type": "code",
   "execution_count": 73,
   "metadata": {},
   "outputs": [],
   "source": [
    "def obj_to_target(image_id , file):\n",
    "    with open (file) as f:\n",
    "        data = f.read()\n",
    "        soup = BeautifulSoup(data,'xml')\n",
    "        objects = soup.find_all('object')\n",
    "        obj_len = len(objects)\n",
    "        boxes = []\n",
    "        labels = []\n",
    "        for i in objects:\n",
    "            boxes.append(get_box(i))\n",
    "            labels.append(get_label(i))\n",
    "\n",
    "        boxes = torch.as_tensor(boxes,dtype = torch.float32)\n",
    "        labels = torch.as_tensor(labels,dtype = torch.float32)\n",
    "        image_id = torch.as_tensor([image_id],dtype = torch.float32)\n",
    "\n",
    "        target = {}\n",
    "        target[\"boxes\"] = boxes\n",
    "        target[\"labels\"] = labels\n",
    "        target[\"image_id\"] = image_id\n",
    "        return target"
   ]
  },
  {
   "cell_type": "code",
   "execution_count": 74,
   "metadata": {},
   "outputs": [],
   "source": [
    "imgs = list(sorted(os.listdir(\"images/\")))\n",
    "labels = list(sorted(os.listdir(\"annotations/\")))"
   ]
  },
  {
   "source": [
    "### Create DataSet"
   ],
   "cell_type": "markdown",
   "metadata": {}
  },
  {
   "cell_type": "code",
   "execution_count": 75,
   "metadata": {},
   "outputs": [],
   "source": [
    "class MaskDataset(object):\n",
    "    def __init__(self,trasforms):\n",
    "        self.trasforms = trasforms\n",
    "        self.imgs = list(sorted(os.listdir(\"images/\")))\n",
    "    \n",
    "    def __getitem__(self,idx):\n",
    "        file_image = \"maksssksksss\" + idx + \".png\"\n",
    "        file_labels = \"maksssksksss\" + idx + \".xml\"\n",
    "        image_path = os.path.join(\"images\",file_image)\n",
    "        label_path = os.path.join(\"annotations\",file_labels)\n",
    "        img = Image.open(image_path).covert('RGB')\n",
    "        target = obj_to_target(idx, label_path)\n",
    "\n",
    "        if self.trasforms != None:\n",
    "            img = self.trasforms(img)\n",
    "        \n",
    "        return img , target\n",
    "    def __len__(self):\n",
    "        return len(self.imgs)"
   ]
  },
  {
   "cell_type": "code",
   "execution_count": 80,
   "metadata": {},
   "outputs": [],
   "source": [
    "data_transform = transforms.Compose([\n",
    "        transforms.ToTensor(), \n",
    "    ])\n",
    "\n",
    "def collate_size(batch):\n",
    "    return tuple(zip(batch))"
   ]
  },
  {
   "cell_type": "code",
   "execution_count": 79,
   "metadata": {},
   "outputs": [],
   "source": [
    "dataset = MaskDataset(data_transform)\n",
    "data_loader = torch.utils.data.DataLoader(dataset,batch_size=4,collate_fn=collate_size)"
   ]
  },
  {
   "source": [
    "# model"
   ],
   "cell_type": "markdown",
   "metadata": {}
  },
  {
   "cell_type": "code",
   "execution_count": null,
   "metadata": {},
   "outputs": [],
   "source": []
  }
 ]
}